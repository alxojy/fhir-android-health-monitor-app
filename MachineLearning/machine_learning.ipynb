{
 "cells": [
  {
   "cell_type": "markdown",
   "metadata": {},
   "source": [
    "## FIT3077 Assignment 2\n",
    "### Machine Learning bonus mark question\n",
    "#### Written by Megan Ooi Jie Yi (30101670) & Hew Ye Zea"
   ]
  },
  {
   "cell_type": "markdown",
   "metadata": {},
   "source": [
    "#### Introduction\n",
    "\n",
    "Based on NHS [1] which is the United Kingdom National Health Service, main factors of high cholesterol include age, obesity, high blood pressure and triglyceride, LDL, HDL levels. \n",
    "\n",
    "This is why we have decided to collect these data related to the patients from the FHIR server. "
   ]
  },
  {
   "cell_type": "markdown",
   "metadata": {},
   "source": [
    "#### Import necessary libraries"
   ]
  },
  {
   "cell_type": "code",
   "execution_count": 191,
   "metadata": {},
   "outputs": [],
   "source": [
    "import pandas as pd\n",
    "import numpy as np\n",
    "import matplotlib.pyplot as plt\n",
    "from sklearn.linear_model import LinearRegression\n",
    "from sklearn.preprocessing import StandardScaler "
   ]
  },
  {
   "cell_type": "markdown",
   "metadata": {},
   "source": [
    "#### Read csv file"
   ]
  },
  {
   "cell_type": "code",
   "execution_count": 235,
   "metadata": {},
   "outputs": [
    {
     "data": {
      "text/html": [
       "<div>\n",
       "<style scoped>\n",
       "    .dataframe tbody tr th:only-of-type {\n",
       "        vertical-align: middle;\n",
       "    }\n",
       "\n",
       "    .dataframe tbody tr th {\n",
       "        vertical-align: top;\n",
       "    }\n",
       "\n",
       "    .dataframe thead th {\n",
       "        text-align: right;\n",
       "    }\n",
       "</style>\n",
       "<table border=\"1\" class=\"dataframe\">\n",
       "  <thead>\n",
       "    <tr style=\"text-align: right;\">\n",
       "      <th></th>\n",
       "      <th>id</th>\n",
       "      <th>Cholesterol</th>\n",
       "      <th>Age</th>\n",
       "      <th>BMI</th>\n",
       "      <th>Blood_Pressure</th>\n",
       "      <th>Triglycerides</th>\n",
       "      <th>LD_Lipoprotein</th>\n",
       "      <th>HD_Lipoprotein</th>\n",
       "    </tr>\n",
       "  </thead>\n",
       "  <tbody>\n",
       "    <tr>\n",
       "      <th>0</th>\n",
       "      <td>1</td>\n",
       "      <td>166.23</td>\n",
       "      <td>47</td>\n",
       "      <td>27.46</td>\n",
       "      <td>86.0</td>\n",
       "      <td>113.32</td>\n",
       "      <td>99.43</td>\n",
       "      <td>63.990</td>\n",
       "    </tr>\n",
       "    <tr>\n",
       "      <th>1</th>\n",
       "      <td>3689</td>\n",
       "      <td>175.00</td>\n",
       "      <td>85</td>\n",
       "      <td>27.29</td>\n",
       "      <td>87.0</td>\n",
       "      <td>NaN</td>\n",
       "      <td>NaN</td>\n",
       "      <td>NaN</td>\n",
       "    </tr>\n",
       "    <tr>\n",
       "      <th>2</th>\n",
       "      <td>5309</td>\n",
       "      <td>197.06</td>\n",
       "      <td>70</td>\n",
       "      <td>28.63</td>\n",
       "      <td>76.0</td>\n",
       "      <td>170.01</td>\n",
       "      <td>147.28</td>\n",
       "      <td>46.390</td>\n",
       "    </tr>\n",
       "    <tr>\n",
       "      <th>3</th>\n",
       "      <td>6959</td>\n",
       "      <td>218.62</td>\n",
       "      <td>51</td>\n",
       "      <td>30.54</td>\n",
       "      <td>87.0</td>\n",
       "      <td>175.21</td>\n",
       "      <td>149.21</td>\n",
       "      <td>44.850</td>\n",
       "    </tr>\n",
       "    <tr>\n",
       "      <th>4</th>\n",
       "      <td>9934</td>\n",
       "      <td>167.99</td>\n",
       "      <td>61</td>\n",
       "      <td>27.02</td>\n",
       "      <td>73.0</td>\n",
       "      <td>166.43</td>\n",
       "      <td>129.05</td>\n",
       "      <td>55.541</td>\n",
       "    </tr>\n",
       "  </tbody>\n",
       "</table>\n",
       "</div>"
      ],
      "text/plain": [
       "     id  Cholesterol  Age    BMI  Blood_Pressure  Triglycerides  \\\n",
       "0     1       166.23   47  27.46            86.0         113.32   \n",
       "1  3689       175.00   85  27.29            87.0            NaN   \n",
       "2  5309       197.06   70  28.63            76.0         170.01   \n",
       "3  6959       218.62   51  30.54            87.0         175.21   \n",
       "4  9934       167.99   61  27.02            73.0         166.43   \n",
       "\n",
       "   LD_Lipoprotein  HD_Lipoprotein  \n",
       "0           99.43          63.990  \n",
       "1             NaN             NaN  \n",
       "2          147.28          46.390  \n",
       "3          149.21          44.850  \n",
       "4          129.05          55.541  "
      ]
     },
     "execution_count": 235,
     "metadata": {},
     "output_type": "execute_result"
    }
   ],
   "source": [
    "data = pd.read_csv(\"patient_data.csv\")\n",
    "data = data.drop(data.columns[[0,1]], axis=1) # remove first column\n",
    "data.head() # display first 5 rows for checking"
   ]
  },
  {
   "cell_type": "code",
   "execution_count": 236,
   "metadata": {},
   "outputs": [
    {
     "data": {
      "text/plain": [
       "(3293, 8)"
      ]
     },
     "execution_count": 236,
     "metadata": {},
     "output_type": "execute_result"
    }
   ],
   "source": [
    "data.shape # get number of rows and columns"
   ]
  },
  {
   "cell_type": "markdown",
   "metadata": {},
   "source": [
    "#### Data wrangling\n",
    "\n",
    "Some patients have missing information. We have to wrangle the data to ensure there are no NaN values."
   ]
  },
  {
   "cell_type": "code",
   "execution_count": 237,
   "metadata": {},
   "outputs": [
    {
     "data": {
      "text/plain": [
       "99"
      ]
     },
     "execution_count": 237,
     "metadata": {},
     "output_type": "execute_result"
    }
   ],
   "source": [
    "data.BMI.isnull().values.sum() # 99 patients have missing BMI values"
   ]
  },
  {
   "cell_type": "code",
   "execution_count": 238,
   "metadata": {},
   "outputs": [
    {
     "data": {
      "text/plain": [
       "94"
      ]
     },
     "execution_count": 238,
     "metadata": {},
     "output_type": "execute_result"
    }
   ],
   "source": [
    "data.Blood_Pressure.isnull().values.sum() # 94 patients have missing blood pressure values"
   ]
  },
  {
   "cell_type": "code",
   "execution_count": 239,
   "metadata": {},
   "outputs": [
    {
     "data": {
      "text/plain": [
       "263"
      ]
     },
     "execution_count": 239,
     "metadata": {},
     "output_type": "execute_result"
    }
   ],
   "source": [
    "data.Triglycerides.isnull().values.sum() # 263 patients have missing triglyceride values"
   ]
  },
  {
   "cell_type": "code",
   "execution_count": 240,
   "metadata": {},
   "outputs": [
    {
     "data": {
      "text/plain": [
       "265"
      ]
     },
     "execution_count": 240,
     "metadata": {},
     "output_type": "execute_result"
    }
   ],
   "source": [
    "data.LD_Lipoprotein.isnull().values.sum() # 265 patients have missing low density lipoprotein values"
   ]
  },
  {
   "cell_type": "code",
   "execution_count": 241,
   "metadata": {},
   "outputs": [
    {
     "data": {
      "text/plain": [
       "270"
      ]
     },
     "execution_count": 241,
     "metadata": {},
     "output_type": "execute_result"
    }
   ],
   "source": [
    "data.HD_Lipoprotein.isnull().values.sum() # 270 patients have missing high density lipoprotein values"
   ]
  },
  {
   "cell_type": "markdown",
   "metadata": {},
   "source": [
    "Use KNN to wrangle data to fill in the missing values. The results are returned in a numpy array so we have to convert it back to pandas DataFrame."
   ]
  },
  {
   "cell_type": "code",
   "execution_count": 242,
   "metadata": {},
   "outputs": [],
   "source": [
    "from sklearn.impute import KNNImputer\n",
    "\n",
    "imputer = KNNImputer(n_neighbors=2)\n",
    "data = imputer.fit_transform(data)\n",
    "data = pd.DataFrame(data)\n",
    "data.columns = ['id','Cholesterol','Age','BMI','Blood_Pressure','Triglycerides','LDL','HDL']"
   ]
  },
  {
   "cell_type": "markdown",
   "metadata": {},
   "source": [
    "#### Convert cholesterol to categorical data"
   ]
  },
  {
   "cell_type": "markdown",
   "metadata": {},
   "source": [
    "Total cholesterol levels are a combination of readings which include triglycerides, LDL and HDL cholesterol[2]. Based on Cleveland Clinic's website, the total cholesterol levels are grouped into\n",
    "\n",
    "| Category | Total cholesterol (mg/dL) |\n",
    "|:----------|:-----------------:|\n",
    "| Low      | < 200             |\n",
    "| Borderline|          200-239 | \n",
    "| High | > 240 | < 35 | >= 160 |"
   ]
  },
  {
   "cell_type": "code",
   "execution_count": 243,
   "metadata": {},
   "outputs": [],
   "source": [
    "data['CholesterolLvl'] = pd.cut(data.Cholesterol,\n",
    "                               bins=[0,200,240,10000],\n",
    "                               labels=['Low','Borderline','High'])"
   ]
  },
  {
   "cell_type": "markdown",
   "metadata": {},
   "source": [
    "Split the data into dependent and independent variables. Dependent - cholesterol levels. Independent - age, BMI, blood pressure, triglyceride, low and high density lipoprotein"
   ]
  },
  {
   "cell_type": "code",
   "execution_count": 244,
   "metadata": {},
   "outputs": [],
   "source": [
    "x = data.iloc[:,[2,3,4,5,6,7]].values # variables\n",
    "y = data.iloc[:, 8].values # result"
   ]
  },
  {
   "cell_type": "markdown",
   "metadata": {},
   "source": [
    "Split data into train and test data. 80% - train, 20% - test"
   ]
  },
  {
   "cell_type": "code",
   "execution_count": 245,
   "metadata": {},
   "outputs": [],
   "source": [
    "from sklearn.model_selection import train_test_split\n",
    "x_train, x_test, y_train, y_test = train_test_split(x, y, test_size = 0.20, random_state = 5)"
   ]
  },
  {
   "cell_type": "markdown",
   "metadata": {},
   "source": [
    "#### Decision tree\n",
    "The decision tree machine learning algorithm is used as it can handle non linear relationships, variable interactions and support multiple variables in the model. It also supports categorical outcomes, in this case, categorical data of cholesterol levels. "
   ]
  },
  {
   "cell_type": "code",
   "execution_count": 246,
   "metadata": {},
   "outputs": [
    {
     "data": {
      "text/plain": [
       "DecisionTreeClassifier(ccp_alpha=0.0, class_weight=None, criterion='entropy',\n",
       "                       max_depth=None, max_features=None, max_leaf_nodes=None,\n",
       "                       min_impurity_decrease=0.0, min_impurity_split=None,\n",
       "                       min_samples_leaf=1, min_samples_split=2,\n",
       "                       min_weight_fraction_leaf=0.0, presort='deprecated',\n",
       "                       random_state=5, splitter='best')"
      ]
     },
     "execution_count": 246,
     "metadata": {},
     "output_type": "execute_result"
    }
   ],
   "source": [
    "# Reference: FIT1043 - Tutorial 7\n",
    "# fitting decision tree to training data\n",
    "from sklearn.tree import DecisionTreeClassifier \n",
    "classifier = DecisionTreeClassifier(\n",
    "criterion = 'entropy', random_state = 5)\n",
    "classifier.fit(x_train, y_train)"
   ]
  },
  {
   "cell_type": "code",
   "execution_count": 247,
   "metadata": {},
   "outputs": [],
   "source": [
    "# predict results for test data\n",
    "y_pred = classifier.predict(x_test)"
   ]
  },
  {
   "cell_type": "code",
   "execution_count": 248,
   "metadata": {},
   "outputs": [],
   "source": [
    "# confusion matrix\n",
    "from sklearn.metrics import confusion_matrix \n",
    "cm = confusion_matrix(y_test, y_pred)\n",
    "correct_predictions = cm[0][0] + cm[1][1] + cm[2][2]"
   ]
  },
  {
   "cell_type": "markdown",
   "metadata": {},
   "source": [
    "The overall accuracy of all predictions based on the confusion matrix is 0.907."
   ]
  },
  {
   "cell_type": "code",
   "execution_count": 249,
   "metadata": {},
   "outputs": [],
   "source": [
    "total = 0\n",
    "for j in range(3):\n",
    "    for i in range(3):\n",
    "        total += cm[j][i]\n",
    "overall_accuracy = correct_predictions/total"
   ]
  },
  {
   "cell_type": "code",
   "execution_count": 251,
   "metadata": {},
   "outputs": [
    {
     "data": {
      "text/plain": [
       "0.9074355083459787"
      ]
     },
     "execution_count": 251,
     "metadata": {},
     "output_type": "execute_result"
    }
   ],
   "source": [
    "overall_accuracy"
   ]
  },
  {
   "cell_type": "markdown",
   "metadata": {},
   "source": [
    "Meanwhile, the accuracy for predicting high cholesterol levels is 0.962."
   ]
  },
  {
   "cell_type": "code",
   "execution_count": 254,
   "metadata": {},
   "outputs": [],
   "source": [
    "high_cholesterol_accuracy = cm[2][2]/(cm[2][0]+cm[2][1]+cm[2][2])"
   ]
  },
  {
   "cell_type": "code",
   "execution_count": 255,
   "metadata": {},
   "outputs": [
    {
     "data": {
      "text/plain": [
       "0.9621993127147767"
      ]
     },
     "execution_count": 255,
     "metadata": {},
     "output_type": "execute_result"
    }
   ],
   "source": [
    "high_cholesterol_accuracy"
   ]
  },
  {
   "cell_type": "markdown",
   "metadata": {},
   "source": [
    "#### References\n",
    "[1] NHS: https://www.nhsinform.scot/illnesses-and-conditions/blood-and-lymph/high-cholesterol#causes-of-high-cholesterol\n",
    "\n",
    "[2] Cleveland Clinic: https://my.clevelandclinic.org/health/articles/11920-cholesterol-numbers-what-do-they-mean"
   ]
  }
 ],
 "metadata": {
  "kernelspec": {
   "display_name": "Python 3",
   "language": "python",
   "name": "python3"
  },
  "language_info": {
   "codemirror_mode": {
    "name": "ipython",
    "version": 3
   },
   "file_extension": ".py",
   "mimetype": "text/x-python",
   "name": "python",
   "nbconvert_exporter": "python",
   "pygments_lexer": "ipython3",
   "version": "3.8.0"
  }
 },
 "nbformat": 4,
 "nbformat_minor": 4
}
