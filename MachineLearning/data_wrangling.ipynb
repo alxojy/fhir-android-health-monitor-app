{
 "cells": [
  {
   "cell_type": "markdown",
   "metadata": {},
   "source": [
    "## FIT3077 Assignment 2\n",
    "### Machine Learning bonus mark question\n",
    "#### Written by Megan Ooi Jie Yi (30101670) & Hew Ye Zea (29035546)"
   ]
  },
  {
   "cell_type": "markdown",
   "metadata": {},
   "source": [
    "#### Introduction\n",
    "\n",
    "Based on NHS [1] which is the United Kingdom National Health Service, main factors of high cholesterol include age, obesity, high blood pressure and smoking.\n",
    "\n",
    "This is why we have decided to collect these data related to the patients from the FHIR server. "
   ]
  },
  {
   "cell_type": "markdown",
   "metadata": {},
   "source": [
    "#### Import necessary libraries"
   ]
  },
  {
   "cell_type": "code",
   "execution_count": 1,
   "metadata": {},
   "outputs": [],
   "source": [
    "import pandas as pd\n",
    "import numpy as np"
   ]
  },
  {
   "cell_type": "markdown",
   "metadata": {},
   "source": [
    "#### Read csv file"
   ]
  },
  {
   "cell_type": "code",
   "execution_count": 2,
   "metadata": {},
   "outputs": [
    {
     "data": {
      "text/html": [
       "<div>\n",
       "<style scoped>\n",
       "    .dataframe tbody tr th:only-of-type {\n",
       "        vertical-align: middle;\n",
       "    }\n",
       "\n",
       "    .dataframe tbody tr th {\n",
       "        vertical-align: top;\n",
       "    }\n",
       "\n",
       "    .dataframe thead th {\n",
       "        text-align: right;\n",
       "    }\n",
       "</style>\n",
       "<table border=\"1\" class=\"dataframe\">\n",
       "  <thead>\n",
       "    <tr style=\"text-align: right;\">\n",
       "      <th></th>\n",
       "      <th>id</th>\n",
       "      <th>Cholesterol</th>\n",
       "      <th>Age</th>\n",
       "      <th>BMI</th>\n",
       "      <th>Diastolic_BP</th>\n",
       "      <th>Systolic_BP</th>\n",
       "      <th>Smoking</th>\n",
       "      <th>Prediabetes</th>\n",
       "      <th>Diabetes</th>\n",
       "      <th>Hypertension</th>\n",
       "      <th>Heart_Disease</th>\n",
       "      <th>Obesity</th>\n",
       "    </tr>\n",
       "  </thead>\n",
       "  <tbody>\n",
       "    <tr>\n",
       "      <th>0</th>\n",
       "      <td>5309</td>\n",
       "      <td>197.06</td>\n",
       "      <td>70</td>\n",
       "      <td>28.63</td>\n",
       "      <td>76.0</td>\n",
       "      <td>126.0</td>\n",
       "      <td>NaN</td>\n",
       "      <td>NaN</td>\n",
       "      <td>NaN</td>\n",
       "      <td>NaN</td>\n",
       "      <td>NaN</td>\n",
       "      <td>active</td>\n",
       "    </tr>\n",
       "    <tr>\n",
       "      <th>1</th>\n",
       "      <td>6959</td>\n",
       "      <td>218.62</td>\n",
       "      <td>51</td>\n",
       "      <td>30.54</td>\n",
       "      <td>87.0</td>\n",
       "      <td>123.0</td>\n",
       "      <td>Never smoker</td>\n",
       "      <td>active</td>\n",
       "      <td>active</td>\n",
       "      <td>NaN</td>\n",
       "      <td>NaN</td>\n",
       "      <td>NaN</td>\n",
       "    </tr>\n",
       "    <tr>\n",
       "      <th>2</th>\n",
       "      <td>9934</td>\n",
       "      <td>167.99</td>\n",
       "      <td>61</td>\n",
       "      <td>27.02</td>\n",
       "      <td>73.0</td>\n",
       "      <td>123.0</td>\n",
       "      <td>Former smoker</td>\n",
       "      <td>active</td>\n",
       "      <td>active</td>\n",
       "      <td>active</td>\n",
       "      <td>NaN</td>\n",
       "      <td>NaN</td>\n",
       "    </tr>\n",
       "    <tr>\n",
       "      <th>3</th>\n",
       "      <td>15886</td>\n",
       "      <td>225.33</td>\n",
       "      <td>59</td>\n",
       "      <td>29.13</td>\n",
       "      <td>84.0</td>\n",
       "      <td>110.0</td>\n",
       "      <td>Former smoker</td>\n",
       "      <td>active</td>\n",
       "      <td>active</td>\n",
       "      <td>active</td>\n",
       "      <td>NaN</td>\n",
       "      <td>NaN</td>\n",
       "    </tr>\n",
       "    <tr>\n",
       "      <th>4</th>\n",
       "      <td>18847</td>\n",
       "      <td>196.73</td>\n",
       "      <td>34</td>\n",
       "      <td>23.31</td>\n",
       "      <td>84.0</td>\n",
       "      <td>112.0</td>\n",
       "      <td>Never smoker</td>\n",
       "      <td>NaN</td>\n",
       "      <td>NaN</td>\n",
       "      <td>active</td>\n",
       "      <td>NaN</td>\n",
       "      <td>NaN</td>\n",
       "    </tr>\n",
       "  </tbody>\n",
       "</table>\n",
       "</div>"
      ],
      "text/plain": [
       "      id  Cholesterol  Age    BMI  Diastolic_BP  Systolic_BP        Smoking  \\\n",
       "0   5309       197.06   70  28.63          76.0        126.0            NaN   \n",
       "1   6959       218.62   51  30.54          87.0        123.0   Never smoker   \n",
       "2   9934       167.99   61  27.02          73.0        123.0  Former smoker   \n",
       "3  15886       225.33   59  29.13          84.0        110.0  Former smoker   \n",
       "4  18847       196.73   34  23.31          84.0        112.0   Never smoker   \n",
       "\n",
       "  Prediabetes Diabetes Hypertension Heart_Disease Obesity  \n",
       "0         NaN      NaN          NaN           NaN  active  \n",
       "1      active   active          NaN           NaN     NaN  \n",
       "2      active   active       active           NaN     NaN  \n",
       "3      active   active       active           NaN     NaN  \n",
       "4         NaN      NaN       active           NaN     NaN  "
      ]
     },
     "execution_count": 2,
     "metadata": {},
     "output_type": "execute_result"
    }
   ],
   "source": [
    "data = pd.read_csv(\"patient_data.csv\")\n",
    "data = data.drop(data.columns[[0]], axis=1) # remove first column\n",
    "data.head() # display first 5 rows for checking"
   ]
  },
  {
   "cell_type": "code",
   "execution_count": 3,
   "metadata": {},
   "outputs": [],
   "source": [
    "data = data.drop_duplicates(['id','Cholesterol']) # remove duplicated data "
   ]
  },
  {
   "cell_type": "code",
   "execution_count": 4,
   "metadata": {},
   "outputs": [
    {
     "data": {
      "text/plain": [
       "(3125, 12)"
      ]
     },
     "execution_count": 4,
     "metadata": {},
     "output_type": "execute_result"
    }
   ],
   "source": [
    "data.shape # get number of rows and columns"
   ]
  },
  {
   "cell_type": "markdown",
   "metadata": {},
   "source": [
    "#### Data wrangling\n",
    "\n",
    "Some patients have missing information. We have to wrangle the data to ensure there are no NaN values."
   ]
  },
  {
   "cell_type": "code",
   "execution_count": 327,
   "metadata": {},
   "outputs": [
    {
     "name": "stdout",
     "output_type": "stream",
     "text": [
      "Missing values\n",
      "BMI: 178\n",
      "Diastolic BP: 156\n",
      "Systolic BP: 156\n",
      "Smoking: 137\n",
      "Prediabetes: 1489\n",
      "Diabetes: 1927\n",
      "Hypertension: 1805\n",
      "Heart disease: 2779\n"
     ]
    }
   ],
   "source": [
    "print(\"Missing values\")\n",
    "print(\"BMI: \" + str(data.BMI.isnull().values.sum()))\n",
    "print(\"Diastolic BP: \" + str(data.Diastolic_BP.isnull().values.sum()))\n",
    "print(\"Systolic BP: \" + str(data.Systolic_BP.isnull().values.sum()))\n",
    "print(\"Smoking: \" + str(data.Smoking.isnull().values.sum()))\n",
    "print(\"Prediabetes: \" + str(data.Prediabetes.isnull().values.sum()))\n",
    "print(\"Diabetes: \" + str(data.Diabetes.isnull().values.sum()))\n",
    "print(\"Hypertension: \" + str(data.Hypertension.isnull().values.sum()))\n",
    "print(\"Heart disease: \" + str(data.Heart_Disease.isnull().values.sum()))"
   ]
  },
  {
   "cell_type": "markdown",
   "metadata": {},
   "source": [
    "The heart disease field has a significant number of missing rows so let's remove this field from our data set."
   ]
  },
  {
   "cell_type": "code",
   "execution_count": 328,
   "metadata": {},
   "outputs": [],
   "source": [
    "data = data.drop(['Heart_Disease'], axis=1)"
   ]
  },
  {
   "cell_type": "markdown",
   "metadata": {},
   "source": [
    "Use KNN to wrangle data to fill in the missing numerical values. The results are returned in a numpy array so we have to convert it back to pandas DataFrame."
   ]
  },
  {
   "cell_type": "code",
   "execution_count": 329,
   "metadata": {},
   "outputs": [],
   "source": [
    "from sklearn.impute import KNNImputer\n",
    "\n",
    "# get numerical data from data set\n",
    "numerical = data[['id','Cholesterol','Age','BMI','Diastolic_BP','Systolic_BP']]\n",
    "\n",
    "imputer = KNNImputer(n_neighbors=2) # initialise KNN\n",
    "numerical = imputer.fit_transform(numerical) # impute numerical data\n",
    "numerical = pd.DataFrame(numerical) # convert np array back to data frame\n",
    "numerical.columns = ['id','Cholesterol','Age','BMI','Diastolic_BP','Systolic_BP']\n",
    "data = data.merge(numerical, how='right') # merge to store imputed values"
   ]
  },
  {
   "cell_type": "markdown",
   "metadata": {},
   "source": [
    "For categorical data such as smoking, prediabetes, diabetes, hypertension and heart disease have a large number of NaN values, we will assume that the NaN values mean that the patient does not have any record of these conditions. If they do not have any records, we will assume that they do not have these conditions. We will fill the NaN values with 'None'"
   ]
  },
  {
   "cell_type": "code",
   "execution_count": 330,
   "metadata": {},
   "outputs": [],
   "source": [
    "data['Smoking'] = data['Smoking'].fillna(value='Never smoker')"
   ]
  },
  {
   "cell_type": "code",
   "execution_count": 331,
   "metadata": {},
   "outputs": [],
   "source": [
    "data[['Prediabetes','Diabetes','Hypertension']] = data[['Prediabetes','Diabetes','Hypertension']].fillna(value='none')"
   ]
  },
  {
   "cell_type": "markdown",
   "metadata": {},
   "source": [
    "#### Convert cholesterol to categorical data"
   ]
  },
  {
   "cell_type": "markdown",
   "metadata": {},
   "source": [
    "Total cholesterol levels are a combination of readings which include triglycerides, LDL and HDL cholesterol[2]. We will group the total cholesterol levels into\n",
    "\n",
    "| Category | Total cholesterol (mg/dL) |\n",
    "|:----------|:-----------------:|\n",
    "| Low      | < 200             |\n",
    "| High|   >= 200 |  "
   ]
  },
  {
   "cell_type": "code",
   "execution_count": 332,
   "metadata": {},
   "outputs": [],
   "source": [
    "data['CholesterolLvl'] = pd.cut(data.Cholesterol,\n",
    "                               bins=[0,200,10000],\n",
    "                               labels=['Low','High'])"
   ]
  },
  {
   "cell_type": "markdown",
   "metadata": {},
   "source": [
    "#### Use BMI to determine if patient is obese"
   ]
  },
  {
   "cell_type": "code",
   "execution_count": 333,
   "metadata": {},
   "outputs": [],
   "source": [
    "data['BMILvl'] = pd.cut(data.BMI,\n",
    "                               bins=[0,25,30,1000],\n",
    "                               labels=['Non obese','Overweight','Obese'])"
   ]
  },
  {
   "cell_type": "markdown",
   "metadata": {},
   "source": [
    "#### Convert patients' ages into different age groups"
   ]
  },
  {
   "cell_type": "code",
   "execution_count": 334,
   "metadata": {},
   "outputs": [],
   "source": [
    "data['AgeLvl'] = pd.cut(data.Age,\n",
    "                               bins=[0,18,35,55,200],\n",
    "                               labels=['Child','Young Adult','Middle Age','Older Age'])"
   ]
  },
  {
   "cell_type": "markdown",
   "metadata": {},
   "source": [
    "#### Convert blood pressure into categorical data"
   ]
  },
  {
   "cell_type": "markdown",
   "metadata": {},
   "source": [
    "Based on the blood pressure chart[3] on BloodPressureUK.org, the readings are split into groups whereby\n",
    "\n",
    "| Category | Diastolic | Systolic | \n",
    "|:---------|:---------:|:--------:|\n",
    "| Low | 40-60 | 70-90 |\n",
    "| Ideal | 60-80 | 90-120 | \n",
    "| Pre-high | 80-90 | 120-140 | \n",
    "| High | 90-100 | 140-190 |"
   ]
  },
  {
   "cell_type": "code",
   "execution_count": 335,
   "metadata": {},
   "outputs": [],
   "source": [
    "data['BPLvl'] = pd.cut(data.Systolic_BP,\n",
    "                               bins=[0,90,140,250],\n",
    "                               labels=['Low','Normal','High'])\n",
    "\n",
    "data['BPLvl'] = pd.cut(data.Diastolic_BP,\n",
    "                               bins=[0,60,90,150],\n",
    "                               labels=['Low','Normal','High'])"
   ]
  },
  {
   "cell_type": "markdown",
   "metadata": {},
   "source": [
    "### Test & train data"
   ]
  },
  {
   "cell_type": "markdown",
   "metadata": {},
   "source": [
    "Since all the fields in the data set have been converted to categorical variables, we will be conducting a decision tree on categorical variables."
   ]
  },
  {
   "cell_type": "markdown",
   "metadata": {},
   "source": [
    "Split the data into dependent and independent variables. Dependent - cholesterol levels. Independent - age, BMI, blood pressure, smoking, prediabetes, diabetes, hypertension, heart disease."
   ]
  },
  {
   "cell_type": "code",
   "execution_count": 336,
   "metadata": {},
   "outputs": [
    {
     "data": {
      "text/html": [
       "<div>\n",
       "<style scoped>\n",
       "    .dataframe tbody tr th:only-of-type {\n",
       "        vertical-align: middle;\n",
       "    }\n",
       "\n",
       "    .dataframe tbody tr th {\n",
       "        vertical-align: top;\n",
       "    }\n",
       "\n",
       "    .dataframe thead th {\n",
       "        text-align: right;\n",
       "    }\n",
       "</style>\n",
       "<table border=\"1\" class=\"dataframe\">\n",
       "  <thead>\n",
       "    <tr style=\"text-align: right;\">\n",
       "      <th></th>\n",
       "      <th>id</th>\n",
       "      <th>Cholesterol</th>\n",
       "      <th>Age</th>\n",
       "      <th>BMI</th>\n",
       "      <th>Diastolic_BP</th>\n",
       "      <th>Systolic_BP</th>\n",
       "      <th>Smoking</th>\n",
       "      <th>Prediabetes</th>\n",
       "      <th>Diabetes</th>\n",
       "      <th>Hypertension</th>\n",
       "      <th>Obesity</th>\n",
       "      <th>CholesterolLvl</th>\n",
       "      <th>BMILvl</th>\n",
       "      <th>AgeLvl</th>\n",
       "      <th>BPLvl</th>\n",
       "    </tr>\n",
       "  </thead>\n",
       "  <tbody>\n",
       "    <tr>\n",
       "      <th>0</th>\n",
       "      <td>5309</td>\n",
       "      <td>197.06</td>\n",
       "      <td>70</td>\n",
       "      <td>28.63</td>\n",
       "      <td>76.0</td>\n",
       "      <td>126.0</td>\n",
       "      <td>Never smoker</td>\n",
       "      <td>none</td>\n",
       "      <td>none</td>\n",
       "      <td>none</td>\n",
       "      <td>active</td>\n",
       "      <td>Low</td>\n",
       "      <td>Overweight</td>\n",
       "      <td>Older Age</td>\n",
       "      <td>Normal</td>\n",
       "    </tr>\n",
       "    <tr>\n",
       "      <th>1</th>\n",
       "      <td>6959</td>\n",
       "      <td>218.62</td>\n",
       "      <td>51</td>\n",
       "      <td>30.54</td>\n",
       "      <td>87.0</td>\n",
       "      <td>123.0</td>\n",
       "      <td>Never smoker</td>\n",
       "      <td>active</td>\n",
       "      <td>active</td>\n",
       "      <td>none</td>\n",
       "      <td>NaN</td>\n",
       "      <td>High</td>\n",
       "      <td>Obese</td>\n",
       "      <td>Middle Age</td>\n",
       "      <td>Normal</td>\n",
       "    </tr>\n",
       "    <tr>\n",
       "      <th>2</th>\n",
       "      <td>9934</td>\n",
       "      <td>167.99</td>\n",
       "      <td>61</td>\n",
       "      <td>27.02</td>\n",
       "      <td>73.0</td>\n",
       "      <td>123.0</td>\n",
       "      <td>Former smoker</td>\n",
       "      <td>active</td>\n",
       "      <td>active</td>\n",
       "      <td>active</td>\n",
       "      <td>NaN</td>\n",
       "      <td>Low</td>\n",
       "      <td>Overweight</td>\n",
       "      <td>Older Age</td>\n",
       "      <td>Normal</td>\n",
       "    </tr>\n",
       "    <tr>\n",
       "      <th>3</th>\n",
       "      <td>15886</td>\n",
       "      <td>225.33</td>\n",
       "      <td>59</td>\n",
       "      <td>29.13</td>\n",
       "      <td>84.0</td>\n",
       "      <td>110.0</td>\n",
       "      <td>Former smoker</td>\n",
       "      <td>active</td>\n",
       "      <td>active</td>\n",
       "      <td>active</td>\n",
       "      <td>NaN</td>\n",
       "      <td>High</td>\n",
       "      <td>Overweight</td>\n",
       "      <td>Older Age</td>\n",
       "      <td>Normal</td>\n",
       "    </tr>\n",
       "    <tr>\n",
       "      <th>4</th>\n",
       "      <td>18847</td>\n",
       "      <td>196.73</td>\n",
       "      <td>34</td>\n",
       "      <td>23.31</td>\n",
       "      <td>84.0</td>\n",
       "      <td>112.0</td>\n",
       "      <td>Never smoker</td>\n",
       "      <td>none</td>\n",
       "      <td>none</td>\n",
       "      <td>active</td>\n",
       "      <td>NaN</td>\n",
       "      <td>Low</td>\n",
       "      <td>Non obese</td>\n",
       "      <td>Young Adult</td>\n",
       "      <td>Normal</td>\n",
       "    </tr>\n",
       "  </tbody>\n",
       "</table>\n",
       "</div>"
      ],
      "text/plain": [
       "      id  Cholesterol  Age    BMI  Diastolic_BP  Systolic_BP        Smoking  \\\n",
       "0   5309       197.06   70  28.63          76.0        126.0   Never smoker   \n",
       "1   6959       218.62   51  30.54          87.0        123.0   Never smoker   \n",
       "2   9934       167.99   61  27.02          73.0        123.0  Former smoker   \n",
       "3  15886       225.33   59  29.13          84.0        110.0  Former smoker   \n",
       "4  18847       196.73   34  23.31          84.0        112.0   Never smoker   \n",
       "\n",
       "  Prediabetes Diabetes Hypertension Obesity CholesterolLvl      BMILvl  \\\n",
       "0        none     none         none  active            Low  Overweight   \n",
       "1      active   active         none     NaN           High       Obese   \n",
       "2      active   active       active     NaN            Low  Overweight   \n",
       "3      active   active       active     NaN           High  Overweight   \n",
       "4        none     none       active     NaN            Low   Non obese   \n",
       "\n",
       "        AgeLvl   BPLvl  \n",
       "0    Older Age  Normal  \n",
       "1   Middle Age  Normal  \n",
       "2    Older Age  Normal  \n",
       "3    Older Age  Normal  \n",
       "4  Young Adult  Normal  "
      ]
     },
     "execution_count": 336,
     "metadata": {},
     "output_type": "execute_result"
    }
   ],
   "source": [
    "data.head()"
   ]
  },
  {
   "cell_type": "code",
   "execution_count": 337,
   "metadata": {},
   "outputs": [],
   "source": [
    "x = data.iloc[:,[2,3,6,7,8,9,12,13,14]].values # variables\n",
    "y = data.iloc[:, 11].values # result"
   ]
  },
  {
   "cell_type": "markdown",
   "metadata": {},
   "source": [
    "Split data into train and test data. 80% - train, 20% - test"
   ]
  },
  {
   "cell_type": "code",
   "execution_count": 338,
   "metadata": {},
   "outputs": [],
   "source": [
    "from sklearn.model_selection import train_test_split\n",
    "x_train, x_test, y_train, y_test = train_test_split(x, y, test_size = 0.20, random_state = 5)"
   ]
  },
  {
   "cell_type": "markdown",
   "metadata": {},
   "source": [
    "Write train and test data sets into 2 different csv files for the machine learning task."
   ]
  },
  {
   "cell_type": "code",
   "execution_count": 339,
   "metadata": {},
   "outputs": [],
   "source": [
    "train_file = open('train.csv','w')\n",
    "import csv\n",
    "\n",
    "train = []\n",
    "\n",
    "train.append(['Age', 'BMI','Smoking','Prediabetes','Diabetes','Hypertension','BMILvl','AgeLvl','BPLvl','CholesterolLvl'])\n",
    "for row in range(len(x_train)):\n",
    "    train.append(np.append(x_train[row], y_train[row]))\n",
    "\n",
    "writer = csv.writer(train_file)\n",
    "for row in train:\n",
    "    writer.writerow(row)"
   ]
  },
  {
   "cell_type": "code",
   "execution_count": 340,
   "metadata": {},
   "outputs": [],
   "source": [
    "test_file = open('test.csv','w')\n",
    "import csv\n",
    "\n",
    "test = []\n",
    "\n",
    "test.append(['Age', 'BMI','Smoking','Prediabetes','Diabetes','Hypertension','BMILvl','AgeLvl','BPLvl','CholesterolLvl'])\n",
    "for row in range(len(x_test)):\n",
    "    test.append(np.append(x_test[row], y_test[row]))\n",
    "\n",
    "writer = csv.writer(test_file)\n",
    "for row in test:\n",
    "    writer.writerow(row)"
   ]
  },
  {
   "cell_type": "markdown",
   "metadata": {},
   "source": [
    "The machine learning portion of code will be done in R. Refer to machineLearning.Rmd"
   ]
  },
  {
   "cell_type": "markdown",
   "metadata": {},
   "source": [
    "#### References\n",
    "[1] NHS: https://www.nhsinform.scot/illnesses-and-conditions/blood-and-lymph/high-cholesterol#causes-of-high-cholesterol\n",
    "\n",
    "[2] Cleveland Clinic: https://my.clevelandclinic.org/health/articles/11920-cholesterol-numbers-what-do-they-mean\n",
    "\n",
    "[3] BloodpressureUK.org: http://www.bloodpressureuk.org/BloodPressureandyou/Thebasics/Bloodpressurechart"
   ]
  }
 ],
 "metadata": {
  "kernelspec": {
   "display_name": "Python 3",
   "language": "python",
   "name": "python3"
  },
  "language_info": {
   "codemirror_mode": {
    "name": "ipython",
    "version": 3
   },
   "file_extension": ".py",
   "mimetype": "text/x-python",
   "name": "python",
   "nbconvert_exporter": "python",
   "pygments_lexer": "ipython3",
   "version": "3.8.0"
  }
 },
 "nbformat": 4,
 "nbformat_minor": 4
}
